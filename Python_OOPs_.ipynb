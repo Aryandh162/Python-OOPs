{
  "nbformat": 4,
  "nbformat_minor": 0,
  "metadata": {
    "colab": {
      "provenance": []
    },
    "kernelspec": {
      "name": "python3",
      "display_name": "Python 3"
    },
    "language_info": {
      "name": "python"
    }
  },
  "cells": [
    {
      "cell_type": "markdown",
      "source": [
        "#Python OOPs Assignment"
      ],
      "metadata": {
        "id": "9_W4zGqgfj4u"
      }
    },
    {
      "cell_type": "markdown",
      "source": [
        "1. What is Object-Oriented Programming (OOP)?\n"
      ],
      "metadata": {
        "id": "MVO__7gLfrsq"
      }
    },
    {
      "cell_type": "markdown",
      "source": [
        "=> Object-Oriented Programming or OOPs refers to languages that use objects in programming. Object-oriented programming aims to implement real-world entities like inheritance, hiding, polymorphism, etc in programming."
      ],
      "metadata": {
        "id": "pCfmbxLvl_yT"
      }
    },
    {
      "cell_type": "markdown",
      "source": [
        "2. What is a class in OOP?\n"
      ],
      "metadata": {
        "id": "6blenguViV4g"
      }
    },
    {
      "cell_type": "markdown",
      "source": [
        "=> A class is a user-defined data type. It consists of data members and member functions, which can be accessed and used by creating an instance of that class. It represents the set of properties or methods that are common to all objects of one type."
      ],
      "metadata": {
        "id": "wPrwPSbfmB9f"
      }
    },
    {
      "cell_type": "markdown",
      "source": [
        "3. What is an object in OOP?\n"
      ],
      "metadata": {
        "id": "Hgmfy3bniZTu"
      }
    },
    {
      "cell_type": "markdown",
      "source": [
        "=> It is a basic unit of Object-Oriented Programming and represents the real-life entities. An Object is an instance of a Class. When a class is defined, no memory is allocated but when it is instantiated (i.e. an object is created) memory is allocated."
      ],
      "metadata": {
        "id": "9DVbhZVVmDuJ"
      }
    },
    {
      "cell_type": "markdown",
      "source": [
        "4. What is the difference between abstraction and encapsulation?"
      ],
      "metadata": {
        "id": "ino5vFggidBH"
      }
    },
    {
      "cell_type": "markdown",
      "source": [
        "=>Encapsulation and Abstraction are two fundamental concepts in Object-Oriented Programming (OOP) that help in managing complexity and enhancing code maintainability. Although they are related, they serve different purposes and are implemented differently.\n",
        "\n",
        "Encapsulation:-\n",
        "\n",
        "Encapsulation is the process of wrapping data and methods that operate on the data into a single unit, typically a class. It restricts direct access to some of the object's components, which can prevent the accidental modification of data.\n",
        "\n",
        "Abstraction:-\n",
        "\n",
        "Abstraction is the concept of hiding the complex implementation details and showing only the essential features of an object. It allows you to focus on what the object does instead of how it does it. Abstraction is achieved using abstract classes and interfaces."
      ],
      "metadata": {
        "id": "X0gmLuiGmFoS"
      }
    },
    {
      "cell_type": "markdown",
      "source": [
        "5. What are dunder methods in Python?\n"
      ],
      "metadata": {
        "id": "hzxA0w-yif2R"
      }
    },
    {
      "cell_type": "markdown",
      "source": [
        "=> Dunder methods, also known as magic methods, are special methods in Python that start and end with double underscores (__). These methods are defined by built-in classes and are used to implement the behavior of various operations and functions."
      ],
      "metadata": {
        "id": "caefMuXvmHmV"
      }
    },
    {
      "cell_type": "markdown",
      "source": [
        "6. Explain the concept of inheritance in OOP.\n"
      ],
      "metadata": {
        "id": "-96_K3XiiiOX"
      }
    },
    {
      "cell_type": "markdown",
      "source": [
        "=> Inheritance is an important pillar of OOP(Object-Oriented Programming). The capability of a class to derive properties and characteristics from another class is called Inheritance. When we write a class, we inherit properties from other classes."
      ],
      "metadata": {
        "id": "7xfdiDoGmJUm"
      }
    },
    {
      "cell_type": "markdown",
      "source": [
        "7. What is polymorphism in OOP?\n"
      ],
      "metadata": {
        "id": "G0Yf7So0ikh4"
      }
    },
    {
      "cell_type": "markdown",
      "source": [
        "=> The word polymorphism means having many forms. In simple words, we can define polymorphism as the ability of a message to be displayed in more than one form."
      ],
      "metadata": {
        "id": "2z7QM2rdmKS9"
      }
    },
    {
      "cell_type": "markdown",
      "source": [
        "8. How is encapsulation achieved in Python?\n"
      ],
      "metadata": {
        "id": "eysM2yaQinOA"
      }
    },
    {
      "cell_type": "markdown",
      "source": [
        "=>In Python, encapsulation refers to the bundling of data (attributes) and methods (functions) that operate on the data into a single unit, typically a class. It also restricts direct access to some components, which helps protect the integrity of the data and ensures proper usage"
      ],
      "metadata": {
        "id": "ZenUG697mLxv"
      }
    },
    {
      "cell_type": "markdown",
      "source": [
        "9. What is a constructor in Python?\n"
      ],
      "metadata": {
        "id": "VfTeoPFjipae"
      }
    },
    {
      "cell_type": "markdown",
      "source": [
        "=> A constructor in Python is a special method that is automatically called when an instance (object) of a class is created. The primary purpose of a constructor is to initialize the attributes of the object. In Python, the constructor method is named __init__()"
      ],
      "metadata": {
        "id": "Y4_QVtiYmM5m"
      }
    },
    {
      "cell_type": "markdown",
      "source": [
        "10. What are class and static methods in Python?\n"
      ],
      "metadata": {
        "id": "RDlQ-RDQircl"
      }
    },
    {
      "cell_type": "markdown",
      "source": [
        "=>The @classmethod decorator is a built-in function decorator that is an expression that gets evaluated after your function is defined. The result of that evaluation shadows your function definition. A class method receives the class as an implicit first argument, just like an instance method receives the instance\n",
        "\n",
        "A static method does not receive an implicit first argument. A static method is also a method that is bound to the class and not the object of the class."
      ],
      "metadata": {
        "id": "Y08_igGymOg8"
      }
    },
    {
      "cell_type": "markdown",
      "source": [
        "11. What is method overloading in Python?\n"
      ],
      "metadata": {
        "id": "-kXVaM-3iu4y"
      }
    },
    {
      "cell_type": "markdown",
      "source": [
        "=> Method overloading is a feature in object-oriented programming where multiple methods with the same name can exist but with different parameters. This allows a method to perform different tasks based on the number or type of arguments passed."
      ],
      "metadata": {
        "id": "AwPBtf-spftG"
      }
    },
    {
      "cell_type": "markdown",
      "source": [
        "12. What is method overriding in OOP?"
      ],
      "metadata": {
        "id": "NXkcL7Pliw6Y"
      }
    },
    {
      "cell_type": "markdown",
      "source": [
        "=> Overriding in Java occurs when a subclass implements a method which is already defined in the superclass or Base Class. The method in the subclass must have the same signature as in the superclass."
      ],
      "metadata": {
        "id": "-Cg5QwiLpqmb"
      }
    },
    {
      "cell_type": "markdown",
      "source": [
        "13. What is a property decorator in Python?\n"
      ],
      "metadata": {
        "id": "ExTbSG4IiysZ"
      }
    },
    {
      "cell_type": "markdown",
      "source": [
        "=> @property decorator is a built-in decorator in Python which is helpful in defining the properties effortlessly without manually calling the inbuilt function property(). Which is used to return the property attributes of a class from the stated getter, setter and deleter as parameters."
      ],
      "metadata": {
        "id": "TRtA3qiKpzPh"
      }
    },
    {
      "cell_type": "markdown",
      "source": [
        "14. Why is polymorphism important in OOP?"
      ],
      "metadata": {
        "id": "RLBHiZiti0nv"
      }
    },
    {
      "cell_type": "markdown",
      "source": [
        "=> Polymorphism allows objects to be treated as instances of their parent class, even if they are instances of a subclass. This enables flexibility in design and allows for more generic and reusable code."
      ],
      "metadata": {
        "id": "wNRlA8W0p0Eq"
      }
    },
    {
      "cell_type": "markdown",
      "source": [
        "15. What is an abstract class in Python?\n"
      ],
      "metadata": {
        "id": "PCDrWQ5ki3fP"
      }
    },
    {
      "cell_type": "markdown",
      "source": [
        "=> An abstract class is a class that cannot be instantiated on its own and is designed to be a blueprint for other classes. Abstract classes allow us to define methods that must be implemented by subclasses, ensuring a consistent interface while still allowing the subclasses to provide specific implementations."
      ],
      "metadata": {
        "id": "oIC6pF68p0nH"
      }
    },
    {
      "cell_type": "markdown",
      "source": [
        "16. What are the advantages of OOP?"
      ],
      "metadata": {
        "id": "rZpCzledi6US"
      }
    },
    {
      "cell_type": "markdown",
      "source": [
        "=> The advantages of OOP are  :-\n",
        "\n",
        "* We can build the programs from standard working modules that communicate with one another, rather than having to start writing the code from scratch  which leads to saving of development time and higher productivity,\n",
        "* OOP language allows to break the program into the bit-sized problems that can be solved easily (one object at a time).\n",
        "* The new technology promises greater programmer productivity, better quality of software and lesser maintenance cost.\n",
        "* OOP systems can be easily upgraded from small to large systems.\n",
        "* It is possible that multiple instances of objects co-exist without any interference,\n",
        "* It is very easy to partition the work in a project based on objects.\n",
        "* It is possible to map the objects in problem domain to those in the program.\n",
        "* The principle of data hiding helps the programmer to build secure programs which cannot be invaded by the code in other parts of the program.\n",
        "* By using inheritance, we can eliminate redundant code and extend the use of existing classes.\n",
        "* Message passing techniques is used for communication between objects which makes the interface descriptions with external systems much simpler.\n",
        "* The data-centered design approach enables us to capture more details of model in an implementable form.\n"
      ],
      "metadata": {
        "id": "TdodpaVkp1M0"
      }
    },
    {
      "cell_type": "markdown",
      "source": [
        "17. What is multiple inheritance in Python?\n"
      ],
      "metadata": {
        "id": "0Mg0Yo31i8cv"
      }
    },
    {
      "cell_type": "markdown",
      "source": [
        "=> When a class is derived from more than one base class it is called multiple Inheritance. The derived class inherits all the features of the base case."
      ],
      "metadata": {
        "id": "O_Bb8RULp1t7"
      }
    },
    {
      "cell_type": "markdown",
      "source": [
        "18. What is the difference between a class variable and an instance variable?\n"
      ],
      "metadata": {
        "id": "Me7DsFxUi-h9"
      }
    },
    {
      "cell_type": "markdown",
      "source": [
        "=>  The difference between class variables and instance variables are .\n",
        "\n",
        "Class Variable\n",
        "Definition: A class variable is shared among all instances of a class. It is defined within the class but outside any instance methods.\n",
        "\n",
        "Instance Variable\n",
        "Definition: An instance variable is unique to each instance of a class. It is defined within methods, typically the __init__ method."
      ],
      "metadata": {
        "id": "is_cRlPCp2Gj"
      }
    },
    {
      "cell_type": "markdown",
      "source": [
        "19. Explain the purpose of ‘’__str__’ and ‘__repr__’ ‘ methods in Python?\n"
      ],
      "metadata": {
        "id": "hHvz7LAMjBKc"
      }
    },
    {
      "cell_type": "markdown",
      "source": [
        "=> `__repr__`: This method is intended to provide a detailed and unambiguous string representation of an object, primarily for developers. The goal is to provide enough information to recreate the object. It is called by the built-in repr() function and is used in debugging and development\n",
        "\n",
        " `__str__`: This method is intended to provide a readable and user-friendly string representation of an object. It is called by the built-in str() function and the print() function. The goal is to present information in a way that is easy for users to understand"
      ],
      "metadata": {
        "id": "PIAJWnRnp2mS"
      }
    },
    {
      "cell_type": "markdown",
      "source": [
        "20. What is the significance of the ‘super()’ function in Python?"
      ],
      "metadata": {
        "id": "wIvtLqVQjEY8"
      }
    },
    {
      "cell_type": "markdown",
      "source": [
        "=> The `super()` function is used to refer to the parent class or superclass. It allows you to call methods defined in the superclass from the subclass, enabling you to extend and customize the functionality inherited from the parent class."
      ],
      "metadata": {
        "id": "R4FiZ8_Ep28u"
      }
    },
    {
      "cell_type": "markdown",
      "source": [
        "21. What is the significance of the __del__ method in Python?"
      ],
      "metadata": {
        "id": "E-2kwAfyjGce"
      }
    },
    {
      "cell_type": "markdown",
      "source": [
        "=> The `__del__` method in Python is a special method, also known as a destructor, that is called when an object is about to be destroyed. It allows you to define specific cleanup actions that should be taken when an object is garbage collected.\n"
      ],
      "metadata": {
        "id": "8pDo1FIYp3XG"
      }
    },
    {
      "cell_type": "markdown",
      "source": [
        "22. What is the difference between @staticmethod and @classmethod in Python?"
      ],
      "metadata": {
        "id": "y3PFAjZrjI_e"
      }
    },
    {
      "cell_type": "markdown",
      "source": [
        "The @classmethod decorator is a built-in function decorator that is an expression that gets evaluated after your function is defined. The result of that evaluation shadows your function definition. A class method receives the class as an implicit first argument, just like an instance method receives the instance\n",
        "\n",
        "A @staticmethod does not receive an implicit first argument. A static method is also a method that is bound to the class and not the object of the class."
      ],
      "metadata": {
        "id": "xCU52mMjp4BP"
      }
    },
    {
      "cell_type": "markdown",
      "source": [
        "23. How does polymorphism work in Python with inheritance?"
      ],
      "metadata": {
        "id": "HuOUiDsZjKzR"
      }
    },
    {
      "cell_type": "markdown",
      "source": [
        "=> Polymorphism is a foundational concept in programming that allows entities like functions, methods or operators to behave differently based on the type of data they are handling."
      ],
      "metadata": {
        "id": "3e1X0NLnp5Hg"
      }
    },
    {
      "cell_type": "markdown",
      "source": [
        "24. What is method chaining in Python OOP?"
      ],
      "metadata": {
        "id": "09bi0hvMjNG_"
      }
    },
    {
      "cell_type": "markdown",
      "source": [
        "=> Method chaining is a powerful technique in Python programming that allows us to call multiple methods on an object in a single, continuous line of code. This approach makes the code cleaner, more readable, and often easier to maintain."
      ],
      "metadata": {
        "id": "CSNZQ6RYp5mg"
      }
    },
    {
      "cell_type": "markdown",
      "source": [
        "25. What is the purpose of the __call__ method in Python?"
      ],
      "metadata": {
        "id": "DjcJs4x4jOYC"
      }
    },
    {
      "cell_type": "markdown",
      "source": [
        "=> `__call__` method enables Python programmers to write classes where the instances behave like functions and can be called like a function. When the instance is called as a function"
      ],
      "metadata": {
        "id": "7XUv5MBJp6E0"
      }
    },
    {
      "cell_type": "markdown",
      "source": [
        "#Practical Questions"
      ],
      "metadata": {
        "id": "Rvu1TO9KjTbZ"
      }
    },
    {
      "cell_type": "markdown",
      "source": [
        " 1. Create a parent class Animal with a method speak() that prints a generic message. Create a child class Dog\n",
        "that overrides the speak() method to print \"Bark!\"."
      ],
      "metadata": {
        "id": "MQmDFZ2ojYt7"
      }
    },
    {
      "cell_type": "code",
      "source": [
        " #code for the above ques.\n",
        "class Animal:\n",
        "    def speak(self):\n",
        "        print(\"Generic animal sound\")\n",
        "\n",
        "class Dog(Animal):\n",
        "    def speak(self):\n",
        "        print(\"Bark!\")\n",
        "animal = Animal()\n",
        "dog = Dog()\n",
        "\n",
        "animal.speak()\n",
        "dog.speak()"
      ],
      "metadata": {
        "colab": {
          "base_uri": "https://localhost:8080/"
        },
        "id": "6H2O_l8FkuFx",
        "outputId": "ad998ce4-38a7-4abd-a925-ec799845468d"
      },
      "execution_count": 3,
      "outputs": [
        {
          "output_type": "stream",
          "name": "stdout",
          "text": [
            "Generic animal sound\n",
            "Bark!\n"
          ]
        }
      ]
    },
    {
      "cell_type": "markdown",
      "source": [
        " 2. Write a program to create an abstract class Shape with a method area(). Derive classes Circle and Rectangle\n",
        "from it and implement the area() method in both."
      ],
      "metadata": {
        "id": "pF5unL4TjwG_"
      }
    },
    {
      "cell_type": "code",
      "source": [
        " #code for the above ques.\n",
        "from abc import ABC, abstractmethod\n",
        "import math\n",
        "\n",
        "class Shape(ABC):\n",
        "    @abstractmethod\n",
        "    def area(self):\n",
        "        pass\n",
        "\n",
        "class Circle(Shape):\n",
        "    def __init__(self, radius):\n",
        "        self.radius = radius\n",
        "\n",
        "    def area(self):\n",
        "        return math.pi * self.radius**2\n",
        "\n",
        "class Rectangle(Shape):\n",
        "    def __init__(self, width, height):\n",
        "        self.width = width\n",
        "        self.height = height\n",
        "\n",
        "    def area(self):\n",
        "        return self.width * self.height\n",
        "\n",
        "circle = Circle(5)\n",
        "rectangle = Rectangle(4, 6)\n",
        "\n",
        "print(\"Circle Area:\", circle.area())\n",
        "print(\"Rectangle Area:\", rectangle.area())"
      ],
      "metadata": {
        "colab": {
          "base_uri": "https://localhost:8080/"
        },
        "id": "C1HfjHR3wBgN",
        "outputId": "0da4943d-c54f-4895-c1cc-dc7291da829c"
      },
      "execution_count": 6,
      "outputs": [
        {
          "output_type": "stream",
          "name": "stdout",
          "text": [
            "Circle Area: 78.53981633974483\n",
            "Rectangle Area: 24\n"
          ]
        }
      ]
    },
    {
      "cell_type": "markdown",
      "source": [
        " 3. Implement a multi-level inheritance scenario where a class Vehicle has an attribute type. Derive a class Car\n",
        "and further derive a class ElectricCar that adds a battery attribute."
      ],
      "metadata": {
        "id": "or5WWR2kjz-J"
      }
    },
    {
      "cell_type": "code",
      "source": [
        " #code for the above ques.\n",
        " class Vehicle:\n",
        "    def __init__(self, type):\n",
        "        self.type = type\n",
        "\n",
        "    def get_type(self):\n",
        "        return self.type\n",
        "\n",
        " class Car(Vehicle):\n",
        "    def __init__(self, type, make, model):\n",
        "        super().__init__(type)\n",
        "        self.make = make\n",
        "        self.model = model\n",
        "\n",
        "    def get_make_model(self):\n",
        "        return f\"{self.make} {self.model}\"\n",
        "\n",
        " class ElectricCar(Car):\n",
        "    def __init__(self, type, make, model, battery):\n",
        "        super().__init__(type, make, model)\n",
        "        self.battery = battery\n",
        "\n",
        "    def get_battery(self):\n",
        "        return self.battery"
      ],
      "metadata": {
        "id": "-VZktf2vkyci"
      },
      "execution_count": 41,
      "outputs": []
    },
    {
      "cell_type": "markdown",
      "source": [
        "4. Demonstrate polymorphism by creating a base class Bird with a method fly(). Create two derived classes\n",
        "Sparrow and Penguin that override the fly() method."
      ],
      "metadata": {
        "id": "GECVcpo_j4ZT"
      }
    },
    {
      "cell_type": "code",
      "source": [
        " #code for the above ques.\n",
        " class Bird:\n",
        "    def fly(self):\n",
        "        print(\"Birds can fly.\")\n",
        "\n",
        "class Sparrow(Bird):\n",
        "    def fly(self):\n",
        "        print(\"Sparrows can fly at high speeds.\")\n",
        "\n",
        "class Penguin(Bird):\n",
        "    def fly(self):\n",
        "        print(\"Penguins cannot fly.\")\n",
        "\n",
        "sparrow = Sparrow()\n",
        "penguin = Penguin()\n",
        "\n",
        "sparrow.fly()\n",
        "penguin.fly()"
      ],
      "metadata": {
        "colab": {
          "base_uri": "https://localhost:8080/"
        },
        "id": "aHmlv66skzGz",
        "outputId": "b19bb6b5-f868-4abd-d784-86cd5e22d51e"
      },
      "execution_count": 42,
      "outputs": [
        {
          "output_type": "stream",
          "name": "stdout",
          "text": [
            "Sparrows can fly at high speeds.\n",
            "Penguins cannot fly.\n"
          ]
        }
      ]
    },
    {
      "cell_type": "markdown",
      "source": [
        "5. Write a program to demonstrate encapsulation by creating a class BankAccount with private attributes\n",
        "balance and methods to deposit, withdraw, and check balance."
      ],
      "metadata": {
        "id": "JK-l8FL1j7zN"
      }
    },
    {
      "cell_type": "code",
      "source": [
        " #code for the above ques.\n",
        " class BankAccount:\n",
        "    def __init__(self, initial_balance=0):\n",
        "        self.__balance = initial_balance  # Private attribute for balance\n",
        "\n",
        "    def deposit(self, amount):\n",
        "        if amount > 0:\n",
        "            self.__balance += amount\n",
        "            print(f\"Deposited: ${amount}\")\n",
        "        else:\n",
        "            print(\"Invalid deposit amount.\")\n",
        "\n",
        "    def withdraw(self, amount):\n",
        "        if 0 < amount <= self.__balance:\n",
        "            self.__balance -= amount\n",
        "            print(f\"Withdrawn: ${amount}\")\n",
        "        else:\n",
        "            print(\"Insufficient funds or invalid withdrawal amount.\")\n",
        "\n",
        "    def check_balance(self):\n",
        "        print(f\"Current balance: ${self.__balance}\")\n",
        "\n",
        "account = BankAccount(10000000000)\n",
        "\n",
        "account.check_balance()\n",
        "account.deposit(500000)\n",
        "account.withdraw(200)\n",
        "account.check_balance()\n",
        "\n",
        "account.deposit(50034567)"
      ],
      "metadata": {
        "colab": {
          "base_uri": "https://localhost:8080/"
        },
        "id": "HK0kJElb3M_p",
        "outputId": "73e103b2-d72f-4520-854d-9d1a80c60e73"
      },
      "execution_count": 46,
      "outputs": [
        {
          "output_type": "stream",
          "name": "stdout",
          "text": [
            "Current balance: $10000000000\n",
            "Deposited: $500000\n",
            "Withdrawn: $200\n",
            "Current balance: $10000499800\n",
            "Deposited: $50034567\n"
          ]
        }
      ]
    },
    {
      "cell_type": "markdown",
      "source": [
        " 6. Demonstrate runtime polymorphism using a method play() in a base class Instrument. Derive classes Guitar\n",
        "and Piano that implement their own version of play()."
      ],
      "metadata": {
        "id": "NxZyHraukAli"
      }
    },
    {
      "cell_type": "code",
      "source": [
        " #code for the above ques.\n",
        " class Instrument:\n",
        "    def play(self):\n",
        "        print(\"Generic instrument sound\")\n",
        "\n",
        "class Guitar(Instrument):\n",
        "    def play(self):\n",
        "        print(\"Guitar is playing\")\n",
        "\n",
        "class Piano(Instrument):\n",
        "    def play(self):\n",
        "        print(\"Piano is playing\")\n",
        "\n",
        "guitar = Guitar()\n",
        "piano = Piano()\n",
        "\n",
        "guitar.play()\n",
        "piano.play()"
      ],
      "metadata": {
        "colab": {
          "base_uri": "https://localhost:8080/"
        },
        "id": "upVEe2EVk0sF",
        "outputId": "aa5574df-de93-4536-bb04-0e6cc864a598"
      },
      "execution_count": 24,
      "outputs": [
        {
          "output_type": "stream",
          "name": "stdout",
          "text": [
            "Guitar is playing\n",
            "Piano is playing\n"
          ]
        }
      ]
    },
    {
      "cell_type": "markdown",
      "source": [
        " 7. Create a class MathOperations with a class method add_numbers() to add two numbers and a static\n",
        "method subtract_numbers() to subtract two numbers."
      ],
      "metadata": {
        "id": "NoS8db4vkDVk"
      }
    },
    {
      "cell_type": "code",
      "source": [
        " #code for the above ques.\n",
        " class MathOperations:\n",
        "    @classmethod\n",
        "    def add_numbers(cls, a, b):\n",
        "        return a + b\n",
        "\n",
        "    @staticmethod\n",
        "    def subtract_numbers(a, b):\n",
        "        return a - b\n",
        "\n",
        "\n",
        "print(MathOperations.add_numbers(5, 3))\n",
        "print(MathOperations.subtract_numbers(10, 4))"
      ],
      "metadata": {
        "colab": {
          "base_uri": "https://localhost:8080/"
        },
        "id": "pupnqL-zk1Rx",
        "outputId": "0759ee39-b9c9-4171-e523-dfee7176ef0d"
      },
      "execution_count": 25,
      "outputs": [
        {
          "output_type": "stream",
          "name": "stdout",
          "text": [
            "8\n",
            "6\n"
          ]
        }
      ]
    },
    {
      "cell_type": "markdown",
      "source": [
        " 8. Implement a class Person with a class method to count the total number of persons created."
      ],
      "metadata": {
        "id": "Mnbj67V3kGAG"
      }
    },
    {
      "cell_type": "code",
      "source": [
        " #code for the above ques.\n",
        " class Person:\n",
        "    count = 0\n",
        "\n",
        "    def __init__(self):\n",
        "        Person.count += 1\n",
        "\n",
        "    @classmethod\n",
        "    def get_total_persons(cls):\n",
        "        return cls.count\n",
        "\n",
        " person1 = Person()\n",
        " person2 = Person()\n",
        " person3 = Person()\n",
        "\n",
        " total_persons = Person.get_total_persons()\n",
        " print(\"Total persons:\", total_persons)"
      ],
      "metadata": {
        "colab": {
          "base_uri": "https://localhost:8080/"
        },
        "id": "wOVRWM--k18h",
        "outputId": "23cef4a3-6499-4dd3-d31b-e5ddd8019e33"
      },
      "execution_count": 26,
      "outputs": [
        {
          "output_type": "stream",
          "name": "stdout",
          "text": [
            "Total persons: 3\n"
          ]
        }
      ]
    },
    {
      "cell_type": "markdown",
      "source": [
        " 9. Write a class Fraction with attributes numerator and denominator. Override the str method to display the\n",
        "fraction as \"numerator/denominator\"."
      ],
      "metadata": {
        "id": "OoCLemfVkNWO"
      }
    },
    {
      "cell_type": "code",
      "source": [
        " #code for the above ques.\n",
        "class Fraction:\n",
        "    def __init__(self, numerator, denominator):\n",
        "        self.numerator = numerator\n",
        "        self.denominator = denominator\n",
        "\n",
        "    def __str__(self):\n",
        "        return f\"{self.numerator}/{self.denominator}\"\n",
        "\n",
        "fraction = Fraction(3, 4)\n",
        "print(fraction)"
      ],
      "metadata": {
        "colab": {
          "base_uri": "https://localhost:8080/"
        },
        "id": "TMoknLA011-N",
        "outputId": "a9394387-8584-4679-9423-fc5f7ef0eff5"
      },
      "execution_count": 30,
      "outputs": [
        {
          "output_type": "stream",
          "name": "stdout",
          "text": [
            "3/4\n"
          ]
        }
      ]
    },
    {
      "cell_type": "markdown",
      "source": [
        " 10. Demonstrate operator overloading by creating a class Vector and overriding the add method to add two\n",
        "vectors."
      ],
      "metadata": {
        "id": "74MJIkxCkQrt"
      }
    },
    {
      "cell_type": "code",
      "source": [
        " #code for the above ques.\n",
        " class Vector:\n",
        "    def __init__(self, x, y):\n",
        "        self.x = x\n",
        "        self.y = y\n",
        "\n",
        "    def __add__(self, other):\n",
        "        return Vector(self.x + other.x, self.y + other.y)\n",
        "\n",
        "vector1 = Vector(1, 2)\n",
        "vector2 = Vector(3, 4)\n",
        "\n",
        "result = vector1 + vector2\n",
        "print(result.x, result.y)"
      ],
      "metadata": {
        "colab": {
          "base_uri": "https://localhost:8080/"
        },
        "id": "B-Ow9dJZk3df",
        "outputId": "7005befe-5cb5-408f-e071-dfa39eb216be"
      },
      "execution_count": 31,
      "outputs": [
        {
          "output_type": "stream",
          "name": "stdout",
          "text": [
            "4 6\n"
          ]
        }
      ]
    },
    {
      "cell_type": "markdown",
      "source": [
        " 11. Create a class Person with attributes name and age. Add a method greet() that prints \"Hello, my name is\n",
        "{name} and I am {age} years old.\""
      ],
      "metadata": {
        "id": "XJXFwGFTkWzc"
      }
    },
    {
      "cell_type": "code",
      "source": [
        "#code for the above ques.\n",
        "class Person:\n",
        "    def __init__(self, name, age):\n",
        "        self.name = name\n",
        "        self.age = age\n",
        "\n",
        "    def greet(self):\n",
        "        print(f\"Hello, my name is {self.name} and I am {self.age} years old.\")\n",
        "\n",
        "person = Person(\"Aryan Dhiman\", 22)\n",
        "\n",
        "person.greet()"
      ],
      "metadata": {
        "colab": {
          "base_uri": "https://localhost:8080/"
        },
        "id": "X9D-U3YayZZj",
        "outputId": "8dc37e9c-b45d-4234-e58b-e247f0eeba2a"
      },
      "execution_count": 10,
      "outputs": [
        {
          "output_type": "stream",
          "name": "stdout",
          "text": [
            "Hello, my name is Aryan Dhiman and I am 22 years old.\n"
          ]
        }
      ]
    },
    {
      "cell_type": "markdown",
      "source": [
        "12. Implement a class Student with attributes name and grades. Create a method average_grade() to compute\n",
        "the average of the grades."
      ],
      "metadata": {
        "id": "wxWRm0iQkZhD"
      }
    },
    {
      "cell_type": "code",
      "source": [
        " #code for the above ques.\n",
        " class Student:\n",
        "    def __init__(self, name, grades):\n",
        "        self.name = name\n",
        "        self.grades = grades\n",
        "\n",
        "    def average_grade(self):\n",
        "        total = sum(self.grades)\n",
        "        average = total / len(self.grades)\n",
        "        return average\n",
        "\n",
        " student = Student(\"Aryan Dhiman\", [85, 90, 78, 92])\n",
        " average = student.average_grade()\n",
        " print(\"Average Grade:\", average)"
      ],
      "metadata": {
        "colab": {
          "base_uri": "https://localhost:8080/"
        },
        "id": "_D_TFiXIk48e",
        "outputId": "e6d552e7-3bc2-4a18-aa09-c69bf9d5bcc7"
      },
      "execution_count": 36,
      "outputs": [
        {
          "output_type": "stream",
          "name": "stdout",
          "text": [
            "Average Grade: 86.25\n"
          ]
        }
      ]
    },
    {
      "cell_type": "markdown",
      "source": [
        " 13. Create a class Rectangle with methods set_dimensions() to set the dimensions and area() to calculate the\n",
        "area."
      ],
      "metadata": {
        "id": "3-T4m6nZkbt1"
      }
    },
    {
      "cell_type": "code",
      "source": [
        " #code for the above ques.\n",
        " class Rectangle:\n",
        "    def __init__(self, length, width):\n",
        "        self.length = length\n",
        "        self.width = width\n",
        "\n",
        "    def set_dimensions(self, length, width):\n",
        "        self.length = length\n",
        "        self.width = width\n",
        "\n",
        "    def area(self):\n",
        "        return self.length * self.width\n",
        "\n",
        " rectangle = Rectangle(5, 3)\n",
        " print(\"Area:\", rectangle.area())\n",
        "\n",
        " rectangle.set_dimensions(4, 6)\n",
        " print(\"New Area:\", rectangle.area())"
      ],
      "metadata": {
        "colab": {
          "base_uri": "https://localhost:8080/"
        },
        "id": "eHGmPmpbk5s5",
        "outputId": "5d4df292-aa8d-4209-d180-3884d1852540"
      },
      "execution_count": 33,
      "outputs": [
        {
          "output_type": "stream",
          "name": "stdout",
          "text": [
            "Area: 15\n",
            "New Area: 24\n"
          ]
        }
      ]
    },
    {
      "cell_type": "markdown",
      "source": [
        " 14. Create a class Employee with a method calculate_salary() that computes the salary based on hours worked\n",
        "and hourly rate. Create a derived class Manager that adds a bonus to the salary"
      ],
      "metadata": {
        "id": "aGOhoAowkd4p"
      }
    },
    {
      "cell_type": "code",
      "source": [
        " #code for the above ques.\n",
        " class Employee:\n",
        "    def __init__(self, name, hours_worked, hourly_rate):\n",
        "        self.name = name\n",
        "        self.hours_worked = hours_worked\n",
        "        self.hourly_rate = hourly_rate\n",
        "\n",
        "    def calculate_salary(self):\n",
        "        return self.hours_worked * self.hourly_rate\n",
        "\n",
        "\n",
        " class Manager(Employee):\n",
        "    def __init__(self, name, hours_worked, hourly_rate, bonus):\n",
        "        super().__init__(name, hours_worked, hourly_rate)\n",
        "        self.bonus = bonus\n",
        "\n",
        "    def calculate_salary(self):\n",
        "        base_salary = super().calculate_salary()\n",
        "        return base_salary + self.bonus\n",
        "\n",
        " employee = Employee(\"Aryan Dhiman\", 40, 15)\n",
        " print(\"Employee Salary:\", employee.calculate_salary())\n",
        "\n",
        "\n"
      ],
      "metadata": {
        "colab": {
          "base_uri": "https://localhost:8080/"
        },
        "id": "XDD_ey7pk6iF",
        "outputId": "c0b7cb96-79ce-4f8d-fb09-a0e1b4d8597d"
      },
      "execution_count": 34,
      "outputs": [
        {
          "output_type": "stream",
          "name": "stdout",
          "text": [
            "Employee Salary: 600\n"
          ]
        }
      ]
    },
    {
      "cell_type": "markdown",
      "source": [
        "15. Create a class Product with attributes name, price, and quantity. Implement a method total_price() that\n",
        "calculates the total price of the product."
      ],
      "metadata": {
        "id": "3qVhny3wkhTh"
      }
    },
    {
      "cell_type": "code",
      "source": [
        " #code for the above ques.\n",
        "class Product:\n",
        "    def __init__(self, name, price, quantity):\n",
        "        self.name = name\n",
        "        self.price = price\n",
        "        self.quantity = quantity\n",
        "\n",
        "    def total_price(self):\n",
        "        return self.price * self.quantity\n",
        "\n",
        "product = Product(\"Laptop\", 999.99, 2)\n",
        "print(\"Total Price:\", product.total_price())\n",
        "\n"
      ],
      "metadata": {
        "colab": {
          "base_uri": "https://localhost:8080/"
        },
        "id": "W4LDWTDdk7Pn",
        "outputId": "77a1ed0f-5695-40ac-94d5-aad63819d1ea"
      },
      "execution_count": 38,
      "outputs": [
        {
          "output_type": "stream",
          "name": "stdout",
          "text": [
            "Total Price: 1999.98\n"
          ]
        }
      ]
    },
    {
      "cell_type": "markdown",
      "source": [
        " 16. Create a class Animal with an abstract method sound(). Create two derived classes Cow and Sheep that\n",
        "implement the sound() method."
      ],
      "metadata": {
        "id": "0Fa6p5ktkmCp"
      }
    },
    {
      "cell_type": "code",
      "source": [
        " #code for the above ques.\n",
        "from abc import ABC, abstractmethod\n",
        "\n",
        "class Animal(ABC):\n",
        "    @abstractmethod\n",
        "    def sound(self):\n",
        "        pass\n",
        "\n",
        "class Cow(Animal):\n",
        "    def sound(self):\n",
        "        print(\"Moo!\")\n",
        "\n",
        "class Sheep(Animal):\n",
        "    def sound(self):\n",
        "        print(\"Baa!\")\n",
        "\n",
        "\n",
        "cow = Cow()\n",
        "sheep = Sheep()\n",
        "\n",
        "cow.sound()\n",
        "sheep.sound()\n"
      ],
      "metadata": {
        "colab": {
          "base_uri": "https://localhost:8080/"
        },
        "id": "ycpSUbsak76T",
        "outputId": "9aa96dec-8327-4747-f5e3-6343260e1422"
      },
      "execution_count": 15,
      "outputs": [
        {
          "output_type": "stream",
          "name": "stdout",
          "text": [
            "Moo!\n",
            "Baa!\n"
          ]
        }
      ]
    },
    {
      "cell_type": "markdown",
      "source": [
        " 17. Create a class Book with attributes title, author, and year_published. Add a method get_book_info() that\n",
        "returns a formatted string with the book's details."
      ],
      "metadata": {
        "id": "KOLnREv0konn"
      }
    },
    {
      "cell_type": "code",
      "source": [
        " #code for the above ques.\n",
        " class Book:\n",
        "    def __init__(self, title, author, year_published):\n",
        "        self.title = title\n",
        "        self.author = author\n",
        "        self.year_published = year_published\n",
        "\n",
        "    def get_book_info(self):\n",
        "        return f\"Title: {self.title}, Author: {self.author}, Year: {self.year_published}\"\n",
        "\n",
        "book = Book(\"The grate me \", \"Aryan Dhiman\", 2003)\n",
        "\n",
        "\n",
        "book_info = book.get_book_info()\n",
        "print(book_info)"
      ],
      "metadata": {
        "colab": {
          "base_uri": "https://localhost:8080/"
        },
        "id": "38C07OBsyr4z",
        "outputId": "6fbed40e-5290-4ea1-a167-940dc77c814d"
      },
      "execution_count": 12,
      "outputs": [
        {
          "output_type": "stream",
          "name": "stdout",
          "text": [
            "Title: The grate me , Author: Aryan Dhiman, Year: 2003\n"
          ]
        }
      ]
    },
    {
      "cell_type": "markdown",
      "source": [
        " 18. Create a class House with attributes address and price. Create a derived class Mansion that adds an\n",
        "attribute number_of_rooms"
      ],
      "metadata": {
        "id": "Ys8LD4Bekqyh"
      }
    },
    {
      "cell_type": "code",
      "source": [
        " #code for the above ques.\n",
        " class House:\n",
        "    def __init__(self, address, price):\n",
        "        self.address = address\n",
        "        self.price = price\n",
        "\n",
        " class Mansion(House):\n",
        "    def __init__(self, address, price, number_of_rooms):\n",
        "        super().__init__(address, price)\n",
        "        self.number_of_rooms = number_of_rooms\n",
        "\n",
        "# Create instances\n",
        "house = House(\"123 St\", 500000)\n",
        "mansion = Mansion(\"456 St\", 2000000, 10)\n",
        "\n",
        "# Access attributes\n",
        "print(f\"House address: {house.address}, price: {house.price}\")\n",
        "print(f\"Mansion address: {mansion.address}, price: {mansion.price}, rooms: {mansion.number_of_rooms}\")"
      ],
      "metadata": {
        "colab": {
          "base_uri": "https://localhost:8080/"
        },
        "id": "R0BZrOYDk9L4",
        "outputId": "ef621d32-9856-446a-c12c-82cd1e49d042"
      },
      "execution_count": 14,
      "outputs": [
        {
          "output_type": "stream",
          "name": "stdout",
          "text": [
            "House address: 123 St, price: 500000\n",
            "Mansion address: 456 St, price: 2000000, rooms: 10\n"
          ]
        }
      ]
    }
  ]
}